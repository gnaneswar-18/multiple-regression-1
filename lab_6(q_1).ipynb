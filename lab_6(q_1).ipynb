{
  "nbformat": 4,
  "nbformat_minor": 0,
  "metadata": {
    "colab": {
      "provenance": [],
      "mount_file_id": "1L3mOBwcVmn1e1Yey5DiZmk6-3boHxXoU",
      "authorship_tag": "ABX9TyN2EV7LPrT+IL7Gim6aiNsH",
      "include_colab_link": true
    },
    "kernelspec": {
      "name": "python3",
      "display_name": "Python 3"
    },
    "language_info": {
      "name": "python"
    }
  },
  "cells": [
    {
      "cell_type": "markdown",
      "metadata": {
        "id": "view-in-github",
        "colab_type": "text"
      },
      "source": [
        "<a href=\"https://colab.research.google.com/github/gnaneswar-18/multiple-regression-1/blob/main/lab_6(q_1).ipynb\" target=\"_parent\"><img src=\"https://colab.research.google.com/assets/colab-badge.svg\" alt=\"Open In Colab\"/></a>"
      ]
    },
    {
      "cell_type": "code",
      "execution_count": null,
      "metadata": {
        "id": "VwfwJpoUoLWm"
      },
      "outputs": [],
      "source": [
        "import pandas as pd\n",
        "import numpy as np\n",
        "from sklearn.model_selection import train_test_split\n",
        "from sklearn.linear_model import LinearRegression\n",
        "from sklearn.preprocessing import StandardScaler\n",
        "from sklearn.metrics import mean_squared_error, mean_absolute_error, r2_score\n"
      ]
    },
    {
      "cell_type": "code",
      "source": [
        "data = pd.read_csv('/content/drive/MyDrive/Classroom/CSE 303 Machine Learning CSE M/50_Startups.csv')\n",
        "data = pd.get_dummies(data, columns=['State'], drop_first=True)\n",
        "x = data.drop(columns=['Profit'])\n",
        "y = data['Profit']\n",
        "print(x.keys(),y.keys())"
      ],
      "metadata": {
        "colab": {
          "base_uri": "https://localhost:8080/"
        },
        "id": "8wgWBYqnrYAC",
        "outputId": "fb02ebe3-bb1c-42f2-da07-ac7287396a69"
      },
      "execution_count": null,
      "outputs": [
        {
          "output_type": "stream",
          "name": "stdout",
          "text": [
            "Index(['R&D Spend', 'Administration', 'Marketing Spend', 'State_Florida',\n",
            "       'State_New York'],\n",
            "      dtype='object') RangeIndex(start=0, stop=50, step=1)\n"
          ]
        }
      ]
    },
    {
      "cell_type": "code",
      "source": [
        "scaler = StandardScaler()\n",
        "x_normalized = scaler.fit_transform(x)\n",
        "\n",
        "x_train, x_test, y_train, y_test = train_test_split(x_normalized, y, test_size=0.2, random_state=0)\n",
        "\n",
        "model = LinearRegression()\n",
        "\n",
        "model.fit(x_train, y_train)\n",
        "\n",
        "y_pred = model.predict(x_test)\n",
        "\n",
        "r2 = r2_score(y_test, y_pred)\n",
        "mse = mean_squared_error(y_test, y_pred)\n",
        "rmse = np.sqrt(mse)\n",
        "mae = mean_absolute_error(y_test, y_pred)\n",
        "\n",
        "print('R-squared (R^2) value: ',r2)\n",
        "print('Mean Squared Error (MSE):',mse)\n",
        "print('Root Mean Squared Error (RMSE):' ,rmse)\n",
        "print('Mean Absolute Error (MAE): ',mae)\n"
      ],
      "metadata": {
        "colab": {
          "base_uri": "https://localhost:8080/"
        },
        "id": "nAUiLzMDqsX7",
        "outputId": "986f93ca-a351-4802-eebf-2a98c180f25e"
      },
      "execution_count": null,
      "outputs": [
        {
          "output_type": "stream",
          "name": "stdout",
          "text": [
            "R-squared (R^2) value:  0.9347068473282424\n",
            "Mean Squared Error (MSE): 83502864.03257756\n",
            "Root Mean Squared Error (RMSE): 9137.990152794955\n",
            "Mean Absolute Error (MAE):  7514.293659640616\n"
          ]
        }
      ]
    }
  ]
}